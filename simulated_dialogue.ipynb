{
 "cells": [
  {
   "cell_type": "code",
   "execution_count": null,
   "metadata": {},
   "outputs": [],
   "source": [
    "__author__ = \"Adrian Sarno, Jennifer Arnold\"\n",
    "__version__ = \"CS224u, Stanford, Spring 2020\""
   ]
  },
  {
   "cell_type": "code",
   "execution_count": 69,
   "metadata": {},
   "outputs": [],
   "source": [
    "import os\n",
    "import json\n",
    "from pprint import pprint\n",
    "from itertools import repeat"
   ]
  },
  {
   "cell_type": "code",
   "execution_count": 93,
   "metadata": {},
   "outputs": [],
   "source": [
    "def simulated_dialogue_reader(src_filename, class_func=None):\n",
    "    \"\"\"Iterator for the Google Simulated Dialogue dataset\n",
    "    The iterator yields (sentence, label) pairs.\n",
    "\n",
    "    The labels are tuples consisting of a list of IOB-tagged slot names,\n",
    "    followed by the domain and intent names\n",
    "\n",
    "    Parameters\n",
    "    ----------\n",
    "    src_filename : str\n",
    "        Full path to the file to be read e.g.: atis-2.dev.w-intent.iob\n",
    "    class_func : function mapping labels to labels.\n",
    "        If this is not defined, then the default function will return \n",
    "        IOB-tagged slot names, followed by the domain and intent labels.\n",
    "        Other options: `intent_class_func` and `domain_class_func`\n",
    "        (or you could write your own).\n",
    "\n",
    "    Yields\n",
    "    ------\n",
    "    (sentence, label)\n",
    "        nltk.Tree, str in {'0','1','2','3','4'}\n",
    "    \n",
    "    \"\"\"\n",
    "    with open(src_filename) as json_file:\n",
    "        dataset = json.load(json_file)\n",
    "        \n",
    "    tokens_output = []\n",
    "    IOB_output = []\n",
    "    for dialog in dataset:\n",
    "        for turn in dialog[\"turns\"]:\n",
    "            token_list = turn[\"user_utterance\"][\"tokens\"]\n",
    "            slots= turn[\"user_utterance\"][\"slots\"]    \n",
    "\n",
    "            IOBtag_list = list(repeat(\"O\", len(token_list)))\n",
    "\n",
    "            for slot_entry in slots:\n",
    "                start = slot_entry[\"start\"]\n",
    "                end = slot_entry[\"exclusive_end\"]\n",
    "                slot = slot_entry[\"slot\"]\n",
    "                prefix = \"B-\"\n",
    "\n",
    "                for index in range(start,end):\n",
    "                    IOBtag_list[index] = prefix + slot\n",
    "                    prefix = \"I-\"\n",
    "            IOB_output.append(IOBtag_list)\n",
    "            tokens_output.append(token_list)\n",
    "    return IOB_output, tokens_output\n",
    "        "
   ]
  },
  {
   "cell_type": "code",
   "execution_count": 96,
   "metadata": {},
   "outputs": [
    {
     "name": "stdout",
     "output_type": "stream",
     "text": [
      "['B-date', 'O', 'B-time', 'I-time'] ['sunday', 'at', '1', 'pm']\n"
     ]
    }
   ],
   "source": [
    "SIMDIALOG_HOME = os.path.join(\"data\", \"simulated-dialogue/sim-M/dev.json\")\n",
    "\n",
    "IOB_output, tokens_output = simulated_dialogue_reader(SIMDIALOG_HOME)\n",
    "print(IOB_output[119], tokens_output[119])"
   ]
  },
  {
   "cell_type": "code",
   "execution_count": null,
   "metadata": {},
   "outputs": [],
   "source": []
  }
 ],
 "metadata": {
  "kernelspec": {
   "display_name": "Python 3",
   "language": "python",
   "name": "python3"
  },
  "language_info": {
   "codemirror_mode": {
    "name": "ipython",
    "version": 3
   },
   "file_extension": ".py",
   "mimetype": "text/x-python",
   "name": "python",
   "nbconvert_exporter": "python",
   "pygments_lexer": "ipython3",
   "version": "3.7.4"
  }
 },
 "nbformat": 4,
 "nbformat_minor": 4
}
