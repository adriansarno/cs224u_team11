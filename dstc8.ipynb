{
 "cells": [
  {
   "cell_type": "code",
   "execution_count": null,
   "metadata": {},
   "outputs": [],
   "source": [
    "__author__ = \"Adrian Sarno, Jennifer Arnold\"\n",
    "__version__ = \"CS224u, Stanford, Spring 2020\""
   ]
  },
  {
   "cell_type": "code",
   "execution_count": 1,
   "metadata": {},
   "outputs": [],
   "source": [
    "import os\n",
    "import json\n",
    "from pprint import pprint\n",
    "from itertools import repeat\n",
    "from nltk.tokenize import WordPunctTokenizer"
   ]
  },
  {
   "cell_type": "code",
   "execution_count": 2,
   "metadata": {},
   "outputs": [],
   "source": [
    "def outside(sentence):\n",
    "    labels = \"\"\n",
    "    for token in WordPunctTokenizer().tokenize(sentence):\n",
    "        labels += \"O \"\n",
    "    return labels\n",
    "\n",
    "def inside(sentence, slot):  \n",
    "    prefix = \"B-\"\n",
    "    labels = \"\"\n",
    "    for token in WordPunctTokenizer().tokenize(sentence):\n",
    "        labels += prefix + slot + \" \"\n",
    "        prefix = \"I-\"\n",
    "    return labels"
   ]
  },
  {
   "cell_type": "code",
   "execution_count": 3,
   "metadata": {},
   "outputs": [
    {
     "data": {
      "text/plain": [
       "'B-author I-author I-author I-author '"
      ]
     },
     "execution_count": 3,
     "metadata": {},
     "output_type": "execute_result"
    }
   ],
   "source": [
    "inside(\"Red Hot Chili Peppers\", \"author\")"
   ]
  },
  {
   "cell_type": "code",
   "execution_count": 19,
   "metadata": {},
   "outputs": [],
   "source": [
    "def slots_to_string(sentence, slots):\n",
    "    end_prev_slot = 0\n",
    "    slots_str = \"\"\n",
    "    for slot in sorted(slots, key = lambda x: x[\"start\"]):\n",
    "    #for slot in slots:\n",
    "        left = sentence[end_prev_slot:slot[\"start\"]]\n",
    "        slots_str += outside(left)\n",
    "        middle = sentence[slot[\"start\"]:slot[\"exclusive_end\"]]\n",
    "        slots_str += inside(middle, slot[\"slot\"])\n",
    "        end_prev_slot = slot[\"exclusive_end\"]\n",
    "    right = sentence[end_prev_slot:]\n",
    "    slots_str += outside(right)\n",
    "\n",
    "    return slots_str.strip()"
   ]
  },
  {
   "cell_type": "code",
   "execution_count": 20,
   "metadata": {},
   "outputs": [
    {
     "data": {
      "text/plain": [
       "'O O O O O O B-song_name I-song_name O O B-artist I-artist I-artist I-artist O O O B-album I-album O'"
      ]
     },
     "execution_count": 20,
     "metadata": {},
     "output_type": "execute_result"
    }
   ],
   "source": [
    "ex_sentence = \"Okay, how about the song Dark Necessities by the Red Hot Chili Peppers on their album The Getaway?\"\n",
    "ex_slots = {\"exclusive_end\": 41,\n",
    "            \"slot\": \"song_name\",\n",
    "            \"start\": 25}, {\n",
    "            \"exclusive_end\": 70,\n",
    "            \"slot\": \"artist\",\n",
    "            \"start\": 49\n",
    "            }, {\n",
    "            \"exclusive_end\": 97,\n",
    "            \"slot\": \"album\",\n",
    "            \"start\": 86}\n",
    "        \n",
    "slots_to_string(ex_sentence, ex_slots)"
   ]
  },
  {
   "cell_type": "code",
   "execution_count": 21,
   "metadata": {},
   "outputs": [],
   "source": [
    "def dstc8_reader(src_filename, class_func=None):\n",
    "    \"\"\"Iterator for the Schema-Guided Dialogue State Tracking (DSTC 8) dataset\n",
    "    The iterator yields (sentence, label) pairs.\n",
    "\n",
    "    The labels are tuples consisting of a list of IOB-tagged slot names,\n",
    "    followed by the domain and intent names\n",
    "\n",
    "    Parameters\n",
    "    ----------\n",
    "    src_filename : str\n",
    "\n",
    "    Yields\n",
    "    ------\n",
    "    (domain, intent, sentence, label)\n",
    "    \n",
    "    \"\"\"\n",
    "    with open(src_filename) as json_file:\n",
    "        dataset = json.load(json_file)\n",
    "    \n",
    "    turns_output = []\n",
    "    sentence_output = []\n",
    "\n",
    "    for dialog in dataset:\n",
    "        for turn in dialog[\"turns\"]:\n",
    "            frames_output = []\n",
    "            for frame in turn[\"frames\"]:\n",
    "                frames_output.append({\n",
    "                    \"service\": frame[\"service\"],\n",
    "                    \"intent\": frame[\"state\"][\"active_intent\"] if turn[\"speaker\"] == \"USER\" else \"\",\n",
    "                    \"slots\": frame[\"slots\"]\n",
    "                })\n",
    "            turns_output.append({\n",
    "                \"utterance\": turn[\"utterance\"],\n",
    "                \"speaker\": turn[\"speaker\"],\n",
    "                \"frames\": frames_output\n",
    "            })\n",
    "    \n",
    "    for turn in turns_output:\n",
    "        for frame in turn[\"frames\"]: \n",
    "            sentence_output.append({\n",
    "                \"sentence\": turn[\"utterance\"],\n",
    "                \"intent\": frame[\"intent\"],\n",
    "                \"domain\": frame[\"service\"],\n",
    "                \"IOB_tags\": slots_to_string(turn[\"utterance\"], frame[\"slots\"]),\n",
    "                \"slots\": frame[\"slots\"]\n",
    "            })\n",
    "    return sentence_output"
   ]
  },
  {
   "cell_type": "code",
   "execution_count": 34,
   "metadata": {},
   "outputs": [],
   "source": [
    "import glob\n",
    "\n",
    "SIMDIALOG_TRAIN = os.path.join(\"data\", \"dstc8-schema-guided-dialogue/train/dialogues_*.json\")\n",
    "SIMDIALOG_DEV = os.path.join(\"data\", \"dstc8-schema-guided-dialogue/dev/dialogues_*.json\")\n",
    "SIMDIALOG_TEST = os.path.join(\"data\", \"dstc8-schema-guided-dialogue/test/dialogues_*.json\")\n",
    "\n",
    "def find_files(path):\n",
    "    txtfiles = []\n",
    "    for file in glob.glob(path):\n",
    "        txtfiles.append(file)\n",
    "    return txtfiles\n",
    "\n",
    "def read_sim_dialog(path):\n",
    "    output = []\n",
    "    for file in find_files(path):\n",
    "        output.extend(dstc8_reader(file))\n",
    "    return output\n"
   ]
  },
  {
   "cell_type": "code",
   "execution_count": 35,
   "metadata": {},
   "outputs": [
    {
     "name": "stdout",
     "output_type": "stream",
     "text": [
      "340762\n",
      "50440\n",
      "88413\n"
     ]
    }
   ],
   "source": [
    "train_data = read_sim_dialog(SIMDIALOG_TRAIN)\n",
    "print(len(train_data))\n",
    "\n",
    "dev_data = read_sim_dialog(SIMDIALOG_DEV)\n",
    "print(len(dev_data))\n",
    "\n",
    "test_data = read_sim_dialog(SIMDIALOG_TEST)\n",
    "print(len(test_data))"
   ]
  },
  {
   "cell_type": "code",
   "execution_count": 31,
   "metadata": {},
   "outputs": [
    {
     "name": "stdout",
     "output_type": "stream",
     "text": [
      "{'sentence': 'Just to make sure, you want a 2 room reservation at 11 Howard in New York with a check in for March 5th and checkout on March 8th.', 'intent': '', 'domain': 'Hotels_3', 'IOB_tags': 'O O O O O O O O O O O O B-hotel_name I-hotel_name O B-location I-location O O O O O B-check_in_date I-check_in_date O O O B-check_out_date I-check_out_date O', 'slots': [{'exclusive_end': 61, 'slot': 'hotel_name', 'start': 52}, {'exclusive_end': 73, 'slot': 'location', 'start': 65}, {'exclusive_end': 103, 'slot': 'check_in_date', 'start': 94}, {'exclusive_end': 129, 'slot': 'check_out_date', 'start': 120}]}\n"
     ]
    }
   ],
   "source": [
    "print(train_data[17])"
   ]
  },
  {
   "cell_type": "code",
   "execution_count": 23,
   "metadata": {},
   "outputs": [
    {
     "name": "stdout",
     "output_type": "stream",
     "text": [
      "17 {'sentence': \"I found 5 songs for you. How about Sabaton 's Night Witches, from the album Heroes\", 'intent': '', 'domain': 'Music_2', 'IOB_tags': 'O O O O O O O O O B-artist O O B-song_name I-song_name O O O O B-album', 'slots': [{'exclusive_end': 59, 'slot': 'song_name', 'start': 46}, {'exclusive_end': 42, 'slot': 'artist', 'start': 35}, {'exclusive_end': 82, 'slot': 'album', 'start': 76}]}\n",
      "19\n",
      "19\n",
      "[{'exclusive_end': 59, 'slot': 'song_name', 'start': 46}, {'exclusive_end': 42, 'slot': 'artist', 'start': 35}, {'exclusive_end': 82, 'slot': 'album', 'start': 76}]\n",
      "song_name 46 59\n",
      "artist 35 42\n",
      "album 76 82\n"
     ]
    }
   ],
   "source": [
    "for i, row in enumerate(sentence_output):\n",
    "    #if len(row[\"slots\"]) > 0 and len(WordPunctTokenizer().tokenize(row[\"sentence\"])) != len(row[\"IOB_tags\"].split()):\n",
    "    if i == 17:\n",
    "        print(i, row)\n",
    "        print(len(WordPunctTokenizer().tokenize(row[\"sentence\"])))\n",
    "        print(len(row[\"IOB_tags\"].split()))\n",
    "        print(row[\"slots\"])\n",
    "        for slot in row[\"slots\"]:\n",
    "            print (slot[\"slot\"], slot[\"start\"], slot[\"exclusive_end\"])\n",
    "        break\n",
    "    "
   ]
  },
  {
   "cell_type": "code",
   "execution_count": null,
   "metadata": {},
   "outputs": [],
   "source": []
  },
  {
   "cell_type": "code",
   "execution_count": null,
   "metadata": {},
   "outputs": [],
   "source": []
  },
  {
   "cell_type": "code",
   "execution_count": null,
   "metadata": {},
   "outputs": [],
   "source": []
  }
 ],
 "metadata": {
  "kernelspec": {
   "display_name": "Python 3",
   "language": "python",
   "name": "python3"
  },
  "language_info": {
   "codemirror_mode": {
    "name": "ipython",
    "version": 3
   },
   "file_extension": ".py",
   "mimetype": "text/x-python",
   "name": "python",
   "nbconvert_exporter": "python",
   "pygments_lexer": "ipython3",
   "version": "3.7.4"
  }
 },
 "nbformat": 4,
 "nbformat_minor": 4
}
